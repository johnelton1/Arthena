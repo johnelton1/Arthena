{
 "cells": [
  {
   "cell_type": "markdown",
   "metadata": {},
   "source": [
    "# Arthena Data Science Interview Task:\n",
    "\n",
    "# John Elton"
   ]
  },
  {
   "cell_type": "markdown",
   "metadata": {},
   "source": [
    "###  In the code below I attempt to address the problem of predicting the 'hammer price' of lots. The general approach is to train a regression model for predicting this price given the features in the data sets provided. The questions for parts 1 and 2 are answered below and are followed by the code used and various outputs produced (along with additional comments about the code along the way). The final questions are answered at the end."
   ]
  },
  {
   "cell_type": "markdown",
   "metadata": {},
   "source": [
    "# Part 1:\n",
    "\n",
    "### Did you perform any data cleaning, filtering or transformations to improve the model fit?\n",
    "\n",
    "### Why did you choose this model? \n",
    "\n",
    "### What loss function did you use? \n",
    "\n",
    "### Why did you pick this loss function? \n",
    "\n",
    "### Describe how your model is validated. What error metrics did you evaluate your model against? \n",
    "\n",
    "### How does the time-series nature of your data affect how you trained and tested your model?\n"
   ]
  },
  {
   "cell_type": "markdown",
   "metadata": {},
   "source": [
    "# Part 2:\n",
    "\n",
    "### a. Briefly discuss your approach to this problem. Pick a few of the lots that you generated `hammer_price` predictions for and do this. Do any of the distributions follow a familiar form? How does the variance differ between plots?\n",
    "\n",
    "###  b. Compare your `hammer_price` distributions to the global distribution of all `hammer_price`s. You may consider normalizing them by dividing by one of the estimates. How do they diverge from the global distribution? How confident are you in your results?\n"
   ]
  },
  {
   "cell_type": "code",
   "execution_count": null,
   "metadata": {
    "collapsed": true
   },
   "outputs": [],
   "source": []
  },
  {
   "cell_type": "markdown",
   "metadata": {},
   "source": [
    "# Additional Questions\n",
    "\n",
    "### 1.)  Which features are most important for your model? Are there any features that surprised you? Given more data, describe other features you feel would be useful in improving the accuracy of your model.\n",
    "\n",
    "From the\n",
    "\n",
    "\n",
    "### 2.)  Suppose we're tasked with evaluating the price of a work where we're given an incomplete set of features. Say, we're given the artist name, type of work, and size, but we know nothing else. How would you go about estimating the `hammer_price` at an auction tomorrow?\n",
    "\n",
    "\n",
    "\n",
    "### 3.)  Assume we care much more about not overpredicting `hammer_price` than we do about underpredicting the price. Describe how you would go about changing your solution in terms of the model, objective function, etc.\n",
    "\n",
    "\n",
    "### 4.)  Given more time, but no new features, how much do you think you could improve the accuracy of your models by? Why?\n",
    "\n",
    "\n",
    "### 5.)  Was this fun? Which sections / questions were the most difficult and which were the easiest?\n",
    "\n"
   ]
  }
 ],
 "metadata": {
  "kernelspec": {
   "display_name": "Python 3",
   "language": "python",
   "name": "python3"
  },
  "language_info": {
   "codemirror_mode": {
    "name": "ipython",
    "version": 3
   },
   "file_extension": ".py",
   "mimetype": "text/x-python",
   "name": "python",
   "nbconvert_exporter": "python",
   "pygments_lexer": "ipython3",
   "version": "3.6.2"
  }
 },
 "nbformat": 4,
 "nbformat_minor": 2
}
