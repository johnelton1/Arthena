{
 "cells": [
  {
   "cell_type": "markdown",
   "metadata": {},
   "source": [
    "# Arthena Data Science Interview Task:\n",
    "\n",
    "# John Elton"
   ]
  },
  {
   "cell_type": "markdown",
   "metadata": {},
   "source": [
    "###  In the code below I address the problem of predicting the 'hammer price' of lots. The general approach is to train a regression model for predicting this price given the features in the data sets provided. The questions for parts 1 and 2 are answered below and are followed by the code used and various outputs produced. The final questions are answered at the end."
   ]
  },
  {
   "cell_type": "markdown",
   "metadata": {},
   "source": [
    "# Part 1:\n",
    "\n",
    "### Did you perform any data cleaning, filtering or transformations to improve the model fit?\n",
    "\n",
    "I filtered out the rows for which hammer_price is -1, as suggested. I also removed rows for which low_estimate or high_estimate is -1 or 0. This only cut the number of total rows down from 15,531 to 14,612.\n",
    "\n",
    "Prices were normalized by dividing each hammer_price, low_estimate, and high_estimate by the exchange rate for the given currency.\n",
    "\n",
    "Measurements for the size of the lot were converted to all be in centimeters.\n",
    "\n",
    "An \"average price of lots sold\" was computed for each unique Timestamp, and this was used to compute two lags of the hammer_price. That is, for each row in the dataset, the first lag is given by the hammer_price for that row minus the average price of lots sold for the previous Timestamp.\n",
    "\n",
    "I took the logarithm of the price fields and used this as the quantity to fit in the regression. The reasoning for this is explained below in the discussion about loss function.\n",
    "\n",
    "### Why did you choose this model? \n",
    "\n",
    "The model chosen is a regularized (Lasso) multi-linear regression model using the following features:\n",
    "\n",
    "['artist_birth_year','auction_lot_count','work_execution_year','work_height','work_width','estimate_low',\n",
    "'estimate_high','artist_name','auction_house','auction_department','auction_location','work_medium','lag_1','lag_2']\n",
    "\n",
    "Categorical features are one-hot encoded, resulting in a final dimensionality of 38. The data is split into training and testing sets, with all performance metrics calculated on the testing set.\n",
    "\n",
    "A simple linear fit (on the logged prices) is justified by the strong results obtained, and by visualizations showing that this fit is valid. See output below showing a plot of y_prediced versus y_test, and similarly a plot of the residuals. The regularization parameter was chosen by testing a range of values and checking the R^2 of the fit on the test data. With the features used and the regularization chosen, the model obtains an R^2 of about 0.95.\n",
    "\n",
    "### What loss function did you use? Why did you pick this loss function? \n",
    "\n",
    "I use square loss with L1 regularization on the log-y values. Copied from Sci-kit Learn: \n",
    "\n",
    "(1 / (2 * n_samples)) * ||y - Xw||^2_2 + alpha * ||w||_1\n",
    "\n",
    "In the problem statement we are asked to minimize the relative error of each lot. Sci-kit Learn does not seem to have a simple way to specify an arbitrary loss function for it's models, but a little algebra shows that using log(y) with the above loss function is actually essentially the same as minimizing relative error. That is primarily the reason for taking the log.\n",
    " \n",
    "\n",
    "### Describe how your model is validated. What error metrics did you evaluate your model against? \n",
    "\n",
    "The primary metric used for asessing model fit was to compute the R^2 of the test-y values against the predictions that the trained model made on the test-X values. To avoid overfitting, the regularizarion parameter was adjusted so that weights of non-informative features were set to 0 by the Lasso. With the features used and the regularization chosen, the model obtains an R^2 of about 0.95.\n",
    "\n",
    "The scatterplot of y-test versus the predicted values does not show a significant deviation from linearity, and the plot of residuals appears to be mostly homoscedastic (see plots in code outputs), so this helps to justify the use of the multi-linear regression.\n",
    "\n",
    "### How does the time-series nature of your data affect how you trained and tested your model?\n",
    "\n",
    "Since the sold prices of lots create a time series, we want to include that information in the model, since past sold prices may be useful for predicting future sales. One way to do this, as I have done, is to use an Autoregressive Distributed Lag (ADL) model. Essentially this just means computing several lags in the price variable and including these as additional features along with our other predictors, for which we will obtain a coefficient in the regression just as if it were a given feature. As mentioned above, I computed the average price of lots sold for each unique Timestamp and used this to create two lags. These are the features called 'lag1' and 'lag2' in the model.\n",
    "\n",
    "\n"
   ]
  },
  {
   "cell_type": "markdown",
   "metadata": {},
   "source": [
    "# Part 2:\n",
    "\n",
    "### a. Briefly discuss your approach to this problem. Pick a few of the lots that you generated `hammer_price` predictions for and do this. Do any of the distributions follow a familiar form? How does the variance differ between plots?\n",
    "\n",
    "The approach here is to produce a distribution of possible y-values for a given X by simulating additional data through the process of bootstrapping. Our model produces a single point estimate of y, however since we also have the true y-values, we can compute residuals for every row of data. This gives us 3,653 residuals. Now, the linear regression model states that for each i, \n",
    "\n",
    "y_i = X_i*W + e_i\n",
    "\n",
    "where e_i is the error or residual. And one of the assumptions for linear regression is that the residuals are i.i.d. (Normal in fact). Even though the price data itself is not i.i.d., this does not imply that the residuals can not be. Again, from the residual plot we see that the roughly equal variance assumption appears to hold. \n",
    "\n",
    "Now, assuming i.i.d. residuals, we bootstrap by sampling with replacement from the residuals and adding the sampled errors on to the true y value for a given point, creating a p.m.f. which can be displayed by a histogram.\n",
    "\n",
    "I carry this out for three separate points, one for each artist. As we can see from the plots produced by this procedure below, 2 of the 3 the p.m.f's have a roughly Normal form, while one is more skewed. The variance looks roughly similar in the 3 plots.\n",
    "\n",
    "\n",
    "###  b. Compare your `hammer_price` distributions to the global distribution of all `hammer_price`s. You may consider normalizing them by dividing by one of the estimates. How do they diverge from the global distribution? How confident are you in your results?\n",
    "\n",
    "A histogram showing the normalized hammer_price distribution for all lots is shown below. Comparing to the single point distributions, the shape is similar (roughly Normal) but there is a wider spread. This is expected since this distribution of y's is for all different X's (variation of price for different inputs), as opposed to a distribtuion of y's for a single X ( a fluctuation around the expected value).\n"
   ]
  },
  {
   "cell_type": "code",
   "execution_count": 57,
   "metadata": {
    "collapsed": true
   },
   "outputs": [],
   "source": [
    "import pandas as pd\n",
    "import numpy as np\n",
    "pd.options.mode.chained_assignment = None \n",
    "\n",
    "\n",
    "from sklearn.linear_model import Lasso\n",
    "\n",
    "from sklearn.preprocessing import StandardScaler\n",
    "from sklearn.model_selection import train_test_split\n",
    "import matplotlib.pyplot as plt\n",
    "\n",
    "\n",
    "# Import the data\n",
    "df_l = pd.read_csv('lewitt.csv')\n",
    "df_p = pd.read_csv('picasso.csv')\n",
    "df_w = pd.read_csv('warhol.csv')\n",
    "\n",
    "\n",
    "N_l = df_l.shape[0]\n",
    "N_p = df_p.shape[0]\n",
    "N_w = df_w.shape[0]\n",
    "\n",
    "\n",
    "df = pd.concat([df_l,df_p,df_w])\n",
    "\n",
    "N = df.shape[0]\n",
    "\n",
    "# Filter hammer_price = -1 (didn't sell)\n",
    "df = df[df['hammer_price'] != -1]\n",
    "# also filter estimate (only a few such records)\n",
    "df = df[(df['estimate_low'] != -1) & (df['estimate_low'] != 0)]\n",
    "df = df[(df['estimate_high'] != -1) & (df['estimate_high'] != 0)]\n",
    "df= df.reset_index(drop=True)\n",
    "N = df.shape[0]\n",
    "\n",
    "# Normalize price to account for different currencies by dividing by exchange rate\n",
    "\n",
    "df['hammer_price'] = df['hammer_price']/df['exchange_rate_to_usd']\n",
    "df['estimate_low'] = df['estimate_low']/df['exchange_rate_to_usd']\n",
    "df['estimate_high'] = df['estimate_high']/df['exchange_rate_to_usd']\n",
    "\n",
    "\n",
    "# adjust work measurement values to account for different dimensions.\n",
    "# convert everything to cm  (have mm, in, m)\n",
    "\n",
    "df['work_height'] = df.apply(lambda row: row['work_height']*10 if row['work_measurement_unit'] == 'mm' else row['work_height']*0.01 if row['work_measurement_unit'] == 'm' else row['work_height']*0.3937 if row['work_measurement_unit'] == 'in' else row['work_height'],axis=1)\n",
    "df['work_width'] = df.apply(lambda row: row['work_width']*10 if row['work_measurement_unit'] == 'mm' else row['work_width']*0.01 if row['work_measurement_unit'] == 'm' else row['work_width']*0.3937 if row['work_measurement_unit'] == 'in' else row['work_width'],axis=1)\n",
    "df['work_depth'] = df.apply(lambda row: row['work_depth']*10 if row['work_measurement_unit'] == 'mm' else row['work_depth']*0.01 if row['work_measurement_unit'] == 'm' else row['work_depth']*0.3937 if row['work_measurement_unit'] == 'in' else row['work_depth'],axis=1)\n",
    "\n",
    "\n",
    "# Convert date fields to Datetime object\n",
    "df['auction_date'] = pd.to_datetime(df['auction_date'])\n",
    "\n",
    "df = df.sort_values('auction_date',ascending = False)\n",
    "df= df.reset_index(drop=True)\n",
    "\n",
    "# Compute average price by day\n",
    "price_ave = df.groupby(['auction_date'])['hammer_price'].mean()\n",
    "df['price_day_avg'] = 0.0\n",
    "for i in range(N):\n",
    "    df['price_day_avg'][i] = price_ave[df['auction_date'][i]]\n",
    "\n",
    "\n",
    "# compute lagged prices\n",
    "daily_prices = np.array(price_ave.sort_index(ascending=False))\n",
    "\n",
    "n_prices = len(daily_prices)\n",
    "df['lag_1'] = 0.0\n",
    "df['lag_2'] = 0.0\n",
    "for i in range(N):\n",
    "    ind = np.argwhere(daily_prices == df['price_day_avg'][i])[0][0]\n",
    "    if ind == n_prices-1:\n",
    "        df['lag_1'][i] = daily_prices[ind]\n",
    "        df['lag_2'][i] = daily_prices[ind]\n",
    "    elif ind == n_prices-2:\n",
    "        df['lag_1'][i] = daily_prices[ind+1]\n",
    "        df['lag_2'][i] = daily_prices[ind]\n",
    "    else:\n",
    "        df['lag_1'][i] = daily_prices[ind+1]\n",
    "        df['lag_2'][i] = daily_prices[ind+2]\n",
    "        \n",
    "\n",
    "# Apply transformation of taking log of hammer_price (as well as estimate_low and estimate_high)\n",
    "\n",
    "df['hammer_price'] = np.log(df['hammer_price'])\n",
    "df['estimate_low'] = np.log(df['estimate_low'])\n",
    "df['estimate_high'] = np.log(df['estimate_high'])\n",
    "\n",
    "df['lag_1'] = np.log(df['lag_1'])\n",
    "df['lag_2'] = np.log(df['lag_2'])\n",
    "\n",
    "\n",
    "# peel off the labels column\n",
    "labels = pd.DataFrame(df['hammer_price'])\n",
    "df = df.drop('hammer_price',1)  \n",
    "\n",
    "           \n",
    "# Select only the features we will use\n",
    "\n",
    "features = ['artist_birth_year','auction_lot_count','work_execution_year','work_height','work_width','estimate_low','estimate_high','artist_name','auction_house','auction_department','auction_location','work_medium','lag_1','lag_2']\n",
    "\n",
    "df = df[features]\n",
    "\n",
    "# one-hot encode categorical features with dummy columns, leaving one out for each\n",
    "cols_to_transform = ['artist_name','auction_house','auction_department','auction_location','work_medium']\n",
    "\n",
    "\n",
    "df_dummies = pd.get_dummies(data=df,columns = cols_to_transform,drop_first=True )\n",
    "features_all = df_dummies.columns\n",
    "\n",
    "# Scale the features to have mean 0, variance 1\n",
    "scaler = StandardScaler()\n",
    "df_dummies = scaler.fit_transform(df_dummies)\n",
    "\n",
    "\n",
    "# Create test/train split\n",
    "(trainX, testX, trainY, testY) = train_test_split(df_dummies, labels, test_size = 0.25, random_state = 34)\n",
    " \n",
    "\n",
    "N_train = trainX.shape[0]\n",
    "N_test= testX.shape[0]\n",
    "\n",
    "# re-format labels for use with sklearn functions\n",
    "trainY = trainY.values.reshape(N_train,)"
   ]
  },
  {
   "cell_type": "code",
   "execution_count": 58,
   "metadata": {},
   "outputs": [
    {
     "name": "stdout",
     "output_type": "stream",
     "text": [
      "R-squared =   0.950478829495\n",
      "Top coefficients:  [(1.2933617437882752, 'estimate_low'), (0.5381253116582464, 'estimate_high'), (0.059566653728709021, 'work_medium_decorative arts'), (0.053601217660336861, 'auction_department_Impressionist & Modern'), (0.035617695447692096, 'artist_birth_year'), (-0.031432762642245024, 'auction_lot_count'), (0.017129299245514915, 'lag_1'), (-0.012934299976778306, 'auction_department_Prints & Multiples'), (-0.0094344339639297857, 'work_medium_drawing'), (0.0083105617326647424, 'lag_2')]\n"
     ]
    }
   ],
   "source": [
    "# Modeling\n",
    "\n",
    "# build Lasso Regression model\n",
    "# Try range of alpha values for regularization constant\n",
    "model =  Lasso(alpha = 0.01, random_state = 37)\n",
    "\n",
    "model.fit(trainX,trainY)\n",
    "predictions = model.predict(testX)\n",
    "\n",
    "r_squared = model.score(testX, testY)\n",
    "print('R-squared =  ', r_squared)\n",
    "\n",
    "# print top coefficients\n",
    "coeffs = list(zip(model.coef_, features_all))\n",
    "coeffs = sorted(coeffs, key=lambda x: -abs(x[0]))\n",
    "print('Top coefficients: ', coeffs[0:10])"
   ]
  },
  {
   "cell_type": "code",
   "execution_count": 59,
   "metadata": {},
   "outputs": [
    {
     "data": {
      "image/png": "[encoded data removed]",
      "text/plain": [
       "<matplotlib.figure.Figure at 0x1f210ede8d0>"
      ]
     },
     "metadata": {},
     "output_type": "display_data"
    }
   ],
   "source": [
    "# Plot predicted versus true\n",
    "plt.xlim(4,18)\n",
    "plt.ylim(4,18)\n",
    "plt.scatter(predictions, testY)\n",
    "plt.xlabel('predictions')\n",
    "plt.ylabel('y-true')\n",
    "plt.show()"
   ]
  },
  {
   "cell_type": "code",
   "execution_count": 60,
   "metadata": {},
   "outputs": [
    {
     "data": {
      "image/png": "[encoded data removed]",
      "text/plain": [
       "<matplotlib.figure.Figure at 0x1f20fabbbe0>"
      ]
     },
     "metadata": {},
     "output_type": "display_data"
    }
   ],
   "source": [
    "# Plot residuals\n",
    "residuals = np.reshape(np.array(testY),N_test) - predictions\n",
    "x_vec = np.arange(1,N_test+1,1)\n",
    "\n",
    "plt.scatter(x_vec, residuals)\n",
    "plt.ylabel('residual value')\n",
    "plt.show()"
   ]
  },
  {
   "cell_type": "markdown",
   "metadata": {},
   "source": [
    "# Part 2"
   ]
  },
  {
   "cell_type": "code",
   "execution_count": 61,
   "metadata": {},
   "outputs": [
    {
     "data": {
      "image/png": "[encoded data removed]",
      "text/plain": [
       "<matplotlib.figure.Figure at 0x1f210f356d8>"
      ]
     },
     "metadata": {},
     "output_type": "display_data"
    }
   ],
   "source": [
    "#############################################################################################\n",
    "# Part 2\n",
    "#############################################################################################\n",
    "\n",
    "# Take bootstrap samples from the residuals to create distribution of y-values\n",
    "\n",
    "# Select a particular X (i = 0 (Warhol), i = 8 (Lewitt),  i =  26 (Picasso) )\n",
    "i_s = 0\n",
    "s_size = 1000\n",
    "\n",
    "y_base = predictions[i_s]\n",
    "# Sample residuals with replacement\n",
    "resid_sample =  np.random.choice(residuals,size = s_size, replace=True)\n",
    "\n",
    "y_dist = y_base*np.ones(s_size)\n",
    "y_dist = y_dist + resid_sample\n",
    "\n",
    "# Histogram of possible y's for a given X\n",
    "plt.hist(np.array(y_dist), range = (9,13), normed = True)\n",
    "plt.xlabel('Warhol')\n",
    "plt.show()"
   ]
  },
  {
   "cell_type": "code",
   "execution_count": 62,
   "metadata": {},
   "outputs": [
    {
     "data": {
      "image/png": "[encoded data removed]",
      "text/plain": [
       "<matplotlib.figure.Figure at 0x1f210c8ada0>"
      ]
     },
     "metadata": {},
     "output_type": "display_data"
    }
   ],
   "source": [
    "# Select a particular X (i = 0 (Warhol), i = 8 (Lewitt),  i =  26 (Picasso) )\n",
    "i_s = 8\n",
    "s_size = 1000\n",
    "\n",
    "y_base = predictions[i_s]\n",
    "# Sample residuals with replacement\n",
    "resid_sample =  np.random.choice(residuals,size = s_size, replace=True)\n",
    "\n",
    "y_dist = y_base*np.ones(s_size)\n",
    "y_dist = y_dist + resid_sample\n",
    "\n",
    "# Histogram of possible y's for a given X\n",
    "plt.hist(np.array(y_dist), range = (9,13), normed = True)\n",
    "plt.xlabel('Lewitt')\n",
    "plt.show()"
   ]
  },
  {
   "cell_type": "code",
   "execution_count": 63,
   "metadata": {},
   "outputs": [
    {
     "data": {
      "image/png": "[encoded data removed]",
      "text/plain": [
       "<matplotlib.figure.Figure at 0x1f21042c240>"
      ]
     },
     "metadata": {},
     "output_type": "display_data"
    }
   ],
   "source": [
    "# Select a particular X (i = 0 (Warhol), i = 8 (Lewitt),  i =  26 (Picasso) )\n",
    "i_s = 26\n",
    "s_size = 1000\n",
    "\n",
    "y_base = predictions[i_s]\n",
    "# Sample residuals with replacement\n",
    "resid_sample =  np.random.choice(residuals,size = s_size, replace=True)\n",
    "\n",
    "y_dist = y_base*np.ones(s_size)\n",
    "y_dist = y_dist + resid_sample\n",
    "\n",
    "# Histogram of possible y's for a given X\n",
    "plt.hist(np.array(y_dist), range = (9,13), normed = True)\n",
    "plt.xlabel('Picasso')\n",
    "plt.show()"
   ]
  },
  {
   "cell_type": "code",
   "execution_count": 64,
   "metadata": {},
   "outputs": [
    {
     "data": {
      "image/png": "[encoded data removed]",
      "text/plain": [
       "<matplotlib.figure.Figure at 0x1f210c802e8>"
      ]
     },
     "metadata": {},
     "output_type": "display_data"
    }
   ],
   "source": [
    "# Histogram of all y-values\n",
    "\n",
    "plt.hist(np.array(labels), range = (4,16), normed = True)\n",
    "plt.xlabel('all y-values')\n",
    "plt.show()"
   ]
  },
  {
   "cell_type": "markdown",
   "metadata": {},
   "source": [
    "# Additional Questions\n",
    "\n",
    "### 1.)  Which features are most important for your model? Are there any features that surprised you? Given more data, describe other features you feel would be useful in improving the accuracy of your model.\n",
    "\n",
    "After standardizing the features, one of the outputs produced above is a list of the top coefficients of the model. This is a measure of feature importance. Overwhelmingly the stronget predictors turned out to be estimate_low followed by estimate_high. This is not terribly surprising. Some other features that were relevant are work_medium, auction_location, and lagged price. Auction location and lagged price are also not surprising and I would have actually expected lagged price to be even more important. However the simple method used of averaging the price over each Timestamp probably did not capture the most useful lag information. I believe a lot more could go into this, such as using the order of lots in the auction and only using lagged values for lots that are 'similar' to the one in question.\n",
    "\n",
    "\n",
    "\n",
    "### 2.)  Suppose we're tasked with evaluating the price of a work where we're given an incomplete set of features. Say, we're given the artist name, type of work, and size, but we know nothing else. How would you go about estimating the `hammer_price` at an auction tomorrow?\n",
    "\n",
    "Assuming that we had already built a strong model with a large amount of complete data and that it is only a new work with an incomplete set of features that we want to estimate, I would take the features for the new work (artist name, type of work, size) and try to find examples of other pieces of art which are very similar in these few features, and see what these similar works sold for. Another approach would be even to estimate values for the missing features (either using some kind of average or a common sense guess) and then just plug these values into one or several of the models to get a rough estimate.\n",
    "\n",
    "\n",
    "### 3.)  Assume we care much more about not overpredicting `hammer_price` than we do about underpredicting the price. Describe how you would go about changing your solution in terms of the model, objective function, etc.\n",
    "\n",
    "For this question, I would need to take a different approach to the objective function than the choice of using log(price) to minimize relative error. A possible solution would be to use \"Weighted Least Squares\", where different weights could be used for errors which overestimate from those which underestimate the price. In that way we could choose the weights so as to penalize over-predicting as strongly as we want. The only downside is that we would need to write our own optimization routine or else switch to another library which allows relative error with weights to be used in the loss function.\n",
    "\n",
    "### 4.)  Given more time, but no new features, how much do you think you could improve the accuracy of your models by? Why?\n",
    "\n",
    "Without more data, probably not a lot. The fit is already quite strong and seems to be dominated by the low and high estimates, so any additional improvements by more clever feature creatiion or parameter tuning, I would not expect to have an exceptionally large effect.\n",
    "\n",
    "\n",
    "### 5.)  Was this fun? Which sections / questions were the most difficult and which were the easiest?\n",
    "\n",
    "I enjoyed thinking about the time-series aspect of this problem, which made it a little different from common regression/classification problems. Section 2 was also interesting to think about. I initially thought the question was hinting at a Bayesian Regression approach, but later decided the bootstrapping method was more what was intended.\n",
    "\n"
   ]
  }
 ],
 "metadata": {
  "kernelspec": {
   "display_name": "Python 3",
   "language": "python",
   "name": "python3"
  },
  "language_info": {
   "codemirror_mode": {
    "name": "ipython",
    "version": 3
   },
   "file_extension": ".py",
   "mimetype": "text/x-python",
   "name": "python",
   "nbconvert_exporter": "python",
   "pygments_lexer": "ipython3",
   "version": "3.6.2"
  }
 },
 "nbformat": 4,
 "nbformat_minor": 2
}
